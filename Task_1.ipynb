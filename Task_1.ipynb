{
 "cells": [
  {
   "cell_type": "markdown",
   "metadata": {},
   "source": [
    "АЛФАВИТ.\n",
    "\n",
    "Зашифруйте сообщение меняя буквы на их порядковый номер в алфавите. Пробелы при этом не учитывать. Строки будут даны без знаков препинания, только с пробелами. Регистр не учитывать. \n",
    "\n",
    "Входные данные: шифруемая строка, длиной до 1000 символов, на латинице\n",
    "\n",
    "Пример входных данных: \n",
    "\n",
    "MR Robot\n",
    "\n",
    "Выходные данные: через запятую порядковый номер букв в алфавите\n",
    "\n",
    "Пример выходных данных: \n",
    "\n",
    "13,18,18,15,2,15,20"
   ]
  },
  {
   "cell_type": "code",
   "execution_count": 1,
   "metadata": {},
   "outputs": [],
   "source": [
    "import sys\n",
    "output = []\n",
    "for line in sys.stdin:\n",
    "    \n",
    "    line = line.lower()\n",
    "    line = line.replace(' ', '')\n",
    "    line = line.replace('\\n', '')\n",
    "    \n",
    "    for char in line:\n",
    "        number = ord(char) - 96\n",
    "        output.append(number)\n",
    "    print(*output, sep=',')"
   ]
  }
 ],
 "metadata": {
  "kernelspec": {
   "display_name": "Python 3",
   "language": "python",
   "name": "python3"
  },
  "language_info": {
   "codemirror_mode": {
    "name": "ipython",
    "version": 3
   },
   "file_extension": ".py",
   "mimetype": "text/x-python",
   "name": "python",
   "nbconvert_exporter": "python",
   "pygments_lexer": "ipython3",
   "version": "3.8.5"
  }
 },
 "nbformat": 4,
 "nbformat_minor": 4
}
