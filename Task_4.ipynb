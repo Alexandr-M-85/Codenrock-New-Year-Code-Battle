{
 "cells": [
  {
   "cell_type": "markdown",
   "metadata": {},
   "source": [
    "RLE\n",
    "\n",
    "RLE - самый простой алгоритм сжатия. Его суть состоит в замене повторяющихся данных образцом, и количеством повтора образца. Алгоритм подходит для сжатия данных, имеющих большое количество повторений.  При сжатии учитывайте регистр. \n",
    "\n",
    "Напишите программу, которая реализует RLE для строк, состоящих из букв латинского алфавита, не имеющих пробелы. \n",
    "\n",
    "Во входных данных только одна строка. \n",
    "\n",
    "Например: DDDDFFFFHHHHk → 4D,4F,4H,1k"
   ]
  },
  {
   "cell_type": "code",
   "execution_count": null,
   "metadata": {},
   "outputs": [],
   "source": [
    "import sys\n",
    "\n",
    "for line in sys.stdin:\n",
    "    output = []\n",
    "    t = 1\n",
    "    for i in range(len(line)):\n",
    "        if line[i] != '\\n':\n",
    "                if len(line)==i+1:\n",
    "                    output.append(str(t) + line[i])\n",
    "                    t=1\n",
    "                elif line[i]==line[i+1]:\n",
    "                    t+=1\n",
    "                else:\n",
    "                    output.append(str(t) + line[i])\n",
    "                    t=1\n",
    "    print(*output, sep=',')"
   ]
  }
 ],
 "metadata": {
  "kernelspec": {
   "display_name": "Python 3",
   "language": "python",
   "name": "python3"
  },
  "language_info": {
   "codemirror_mode": {
    "name": "ipython",
    "version": 3
   },
   "file_extension": ".py",
   "mimetype": "text/x-python",
   "name": "python",
   "nbconvert_exporter": "python",
   "pygments_lexer": "ipython3",
   "version": "3.8.5"
  }
 },
 "nbformat": 4,
 "nbformat_minor": 4
}
