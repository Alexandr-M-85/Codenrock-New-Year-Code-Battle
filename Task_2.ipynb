{
 "cells": [
  {
   "cell_type": "markdown",
   "metadata": {},
   "source": [
    "ВОЙНА\n",
    "\n",
    "В мире Дикого запада идет война. Главнокомандующие разработали стратегию клина. Чтобы сбить ряды противника.\n",
    "\n",
    "Чтобы образовать клин надо, знать число человек в ряду противника, в задней части клина количество участников равно количеству человек в ряду у противника. В каждом ряду клина на два участника меньше, чем в предыдущем ряду. На острой части клина может быть либо 2 либо 1 участник.\n",
    "\n",
    "Так если в ряду у противника 9 человек то ряды клина состоят из такого количества человек:\n",
    "\n",
    "9\n",
    "\n",
    "7\n",
    "\n",
    "5\n",
    "\n",
    "3\n",
    "\n",
    "1\n",
    "\n",
    "Или для 6 человек в ряду у противника:\n",
    "\n",
    "6\n",
    "\n",
    "4\n",
    "\n",
    "2\n",
    "\n",
    "По введенному числу количества человек в ряду у противника, найдите количество человек в клину\n",
    "\n",
    "Пример входных данных: 9\n",
    "\n",
    "Пример выходных данных: 25\n",
    "\n",
    "Количество человек у противника может достигать 100"
   ]
  },
  {
   "cell_type": "code",
   "execution_count": null,
   "metadata": {},
   "outputs": [],
   "source": [
    "import sys\n",
    "\n",
    "for line in sys.stdin:\n",
    "    line = int(line)\n",
    "result = line\n",
    "while line > 2:\n",
    "    line -= 2\n",
    "    result += line\n",
    "print(result)"
   ]
  }
 ],
 "metadata": {
  "kernelspec": {
   "display_name": "Python 3",
   "language": "python",
   "name": "python3"
  },
  "language_info": {
   "codemirror_mode": {
    "name": "ipython",
    "version": 3
   },
   "file_extension": ".py",
   "mimetype": "text/x-python",
   "name": "python",
   "nbconvert_exporter": "python",
   "pygments_lexer": "ipython3",
   "version": "3.8.5"
  }
 },
 "nbformat": 4,
 "nbformat_minor": 4
}
